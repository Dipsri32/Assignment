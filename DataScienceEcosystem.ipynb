{
 "cells": [
  {
   "cell_type": "markdown",
   "id": "1dde0a2c-3f3b-42b6-9eae-100b976a2e65",
   "metadata": {},
   "source": [
    "# Data Science Tools and Ecosystem "
   ]
  },
  {
   "cell_type": "code",
   "execution_count": null,
   "id": "4ba6abdf-1b05-4eaf-81a6-2c565b7b1b28",
   "metadata": {},
   "outputs": [],
   "source": []
  },
  {
   "cell_type": "markdown",
   "id": "57c16f2c-ffb6-42d4-ba2e-6bb73804d580",
   "metadata": {},
   "source": [
    "Introduction of Data Science Tools and Ecosystem"
   ]
  },
  {
   "cell_type": "markdown",
   "id": "22f59e06-0105-49e2-9ec3-3943943b63d2",
   "metadata": {},
   "source": [
    "**Objectives:**\n",
    "* Learn popular languages that Data Scientist uses\n",
    "* Learn about commonly used libraries by Data Scientists\n",
    "* Work on tools like Jupyter Note, R, Python, etc\n",
    "* Learn various Data Science Tools through Exercises and Assignments "
   ]
  },
  {
   "cell_type": "code",
   "execution_count": null,
   "id": "170e2aec-55da-4a58-95aa-2f100e1cecb7",
   "metadata": {
    "tags": []
   },
   "outputs": [],
   "source": []
  },
  {
   "cell_type": "markdown",
   "id": "97492d7f-df6a-4f55-ba2c-02e1da01690b",
   "metadata": {},
   "source": [
    "Some of the popular languages that Data Scientists use are:\n",
    "1. Python\n",
    "2. R\n",
    "3. SQL"
   ]
  },
  {
   "cell_type": "code",
   "execution_count": null,
   "id": "cfe3de80-f37b-4c4a-9399-dae90880212e",
   "metadata": {},
   "outputs": [],
   "source": []
  },
  {
   "cell_type": "markdown",
   "id": "be74e565-fda4-4ca6-a842-eca5e8b36d8e",
   "metadata": {},
   "source": [
    "Some of the commonly used libraries used by Data Scientists include:\n",
    "1. NumPy\n",
    "2. SciPy\n",
    "3. TensorFlow"
   ]
  },
  {
   "cell_type": "code",
   "execution_count": null,
   "id": "eaaf59c8-8a03-46e6-925e-9e833907effc",
   "metadata": {},
   "outputs": [],
   "source": []
  },
  {
   "cell_type": "markdown",
   "id": "50777341-d143-40b2-bc36-9ac157d38f28",
   "metadata": {},
   "source": [
    "| Data Science Tools |\n",
    "| --- |\n",
    "| Apache Spark |\n",
    "| RStudio |\n",
    "| TensorFlow |"
   ]
  },
  {
   "cell_type": "code",
   "execution_count": null,
   "id": "4f0553dc-d606-4510-9ad4-4aa44a7ebba3",
   "metadata": {},
   "outputs": [],
   "source": []
  },
  {
   "cell_type": "markdown",
   "id": "a202f98c-15bd-4d77-af70-c9bdec3f1276",
   "metadata": {},
   "source": [
    "### Below are a few examples of evaluating arithmetic expressions in Python"
   ]
  },
  {
   "cell_type": "code",
   "execution_count": null,
   "id": "00551e9e-96be-4e8f-b102-d990c32f98bd",
   "metadata": {},
   "outputs": [],
   "source": []
  },
  {
   "cell_type": "markdown",
   "id": "1d9974dd-fbb5-4099-883f-e1beba3af39d",
   "metadata": {},
   "source": [
    "This a simple arithmetic expression to mutiply then add integers"
   ]
  },
  {
   "cell_type": "code",
   "execution_count": 2,
   "id": "fe76b29a-5f29-4dd7-8d94-c2fe3c1ab084",
   "metadata": {
    "tags": []
   },
   "outputs": [
    {
     "data": {
      "text/plain": [
       "17"
      ]
     },
     "execution_count": 2,
     "metadata": {},
     "output_type": "execute_result"
    }
   ],
   "source": [
    "# print an integer\n",
    "(3*4)+5"
   ]
  },
  {
   "cell_type": "code",
   "execution_count": null,
   "id": "2610cbd5-436a-4e73-856e-9e1240366294",
   "metadata": {},
   "outputs": [],
   "source": []
  },
  {
   "cell_type": "markdown",
   "id": "d094e8b9-add9-4c73-8a9c-9d407138a51f",
   "metadata": {},
   "source": [
    "This will convert 200 minutes to hours by diving by 60"
   ]
  },
  {
   "cell_type": "code",
   "execution_count": 17,
   "id": "2f1835ae-8990-45a7-9a10-2c0d8835f500",
   "metadata": {
    "tags": []
   },
   "outputs": [
    {
     "data": {
      "text/plain": [
       "3.3333333333333335"
      ]
     },
     "execution_count": 17,
     "metadata": {},
     "output_type": "execute_result"
    }
   ],
   "source": [
    "# print an integer\n",
    "200/60"
   ]
  },
  {
   "cell_type": "code",
   "execution_count": null,
   "id": "7f6b1bbf-50e9-4935-800b-29187c584892",
   "metadata": {},
   "outputs": [],
   "source": []
  },
  {
   "cell_type": "markdown",
   "id": "d9171e3d-60a7-4287-896f-29a675d73e04",
   "metadata": {},
   "source": [
    "## Author\n",
    "Dipesh"
   ]
  },
  {
   "cell_type": "code",
   "execution_count": null,
   "id": "9db3a2b4-6b94-430d-a498-06abc9180aee",
   "metadata": {},
   "outputs": [],
   "source": []
  }
 ],
 "metadata": {
  "kernelspec": {
   "display_name": "Python 3 (ipykernel)",
   "language": "python",
   "name": "python3"
  },
  "language_info": {
   "codemirror_mode": {
    "name": "ipython",
    "version": 3
   },
   "file_extension": ".py",
   "mimetype": "text/x-python",
   "name": "python",
   "nbconvert_exporter": "python",
   "pygments_lexer": "ipython3",
   "version": "3.11.4"
  }
 },
 "nbformat": 4,
 "nbformat_minor": 5
}
